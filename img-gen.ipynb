{
 "cells": [
  {
   "cell_type": "code",
   "execution_count": null,
   "id": "f70d7fd3-87ed-414d-b53c-c4da8f8127d7",
   "metadata": {},
   "outputs": [],
   "source": [
    "from tensorflow.keras.preprocessing.image import ImageDataGenerator\n",
    "\n",
    "# Define Data Augmentation settings\n",
    "data_augmentation = ImageDataGenerator(\n",
    "    rescale=1.0 / 255,            # Normalize pixel values\n",
    "    rotation_range=20,            # Randomly rotate images (0-20 degrees)\n",
    "    width_shift_range=0.2,        # Horizontally shift images by 20% of width\n",
    "    height_shift_range=0.2,       # Vertically shift images by 20% of height\n",
    "    shear_range=0.15,             # Shear transformation\n",
    "    zoom_range=0.2,               # Randomly zoom in or out\n",
    "    horizontal_flip=True,         # Randomly flip images horizontally\n",
    "    fill_mode='nearest'           # Fill missing pixels\n",
    ")\n",
    "\n",
    "# Example of applying augmentation on the training data\n",
    "train_generator = data_augmentation.flow_from_directory(\n",
    "    \"path/to/train\",              # Path to training data\n",
    "    target_size=(224, 224),       # Resize images to match the input shape of the model\n",
    "    batch_size=32,\n",
    "    class_mode='categorical'\n",
    ")"
   ]
  },
  {
   "cell_type": "code",
   "execution_count": null,
   "id": "4eb1bd0a-e910-426b-8898-ae52d8bb8179",
   "metadata": {},
   "outputs": [],
   "source": [
    "import numpy as np\n",
    "import os\n",
    "from tensorflow.keras.preprocessing.image import load_img, img_to_array\n",
    "\n",
    "# Load a single image and apply augmentation\n",
    "img = load_img(\"path/to/an_image.jpg\", target_size=(224, 224))\n",
    "img_array = img_to_array(img)  # Convert to NumPy array\n",
    "img_array = img_array.reshape((1,) + img_array.shape)  # Reshape for augmentation\n",
    "\n",
    "# Generate augmented samples\n",
    "output_dir = \"path/to/save/augmented_images\"\n",
    "os.makedirs(output_dir, exist_ok=True)\n",
    "i = 0\n",
    "for batch in data_augmentation.flow(img_array, batch_size=1, save_to_dir=output_dir, save_prefix=\"aug\", save_format=\"jpeg\"):\n",
    "    i += 1\n",
    "    if i > 10:  # Generate 10 augmented images\n",
    "        break"
   ]
  }
 ],
 "metadata": {
  "kernelspec": {
   "display_name": "Python 3 (ipykernel)",
   "language": "python",
   "name": "python3"
  },
  "language_info": {
   "codemirror_mode": {
    "name": "ipython",
    "version": 3
   },
   "file_extension": ".py",
   "mimetype": "text/x-python",
   "name": "python",
   "nbconvert_exporter": "python",
   "pygments_lexer": "ipython3",
   "version": "3.12.3"
  }
 },
 "nbformat": 4,
 "nbformat_minor": 5
}
