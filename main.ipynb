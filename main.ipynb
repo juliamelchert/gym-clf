{
 "cells": [
  {
   "cell_type": "markdown",
   "id": "c7dfa38d-71a5-45a5-b0fa-5241d1f0fe3d",
   "metadata": {},
   "source": [
    "# Main"
   ]
  },
  {
   "cell_type": "markdown",
   "id": "5b148cc7-8cb6-484f-aa40-3968f326e7f0",
   "metadata": {},
   "source": [
    "----------"
   ]
  },
  {
   "cell_type": "markdown",
   "id": "49bd8fb9-3843-4271-b8d2-87f600a14bf6",
   "metadata": {},
   "source": [
    "## Set up ML Flow"
   ]
  },
  {
   "cell_type": "markdown",
   "id": "e5ad67c0-e46a-48c8-be28-e6d241dcd95c",
   "metadata": {},
   "source": [
    "Make sure you have ML Flow installed:"
   ]
  },
  {
   "cell_type": "markdown",
   "id": "664433fe-3c71-4c0f-b32f-43b5e4f5abb2",
   "metadata": {},
   "source": [
    "``` pip install mlflow ```"
   ]
  },
  {
   "cell_type": "markdown",
   "id": "f4548f62-6922-490d-8990-aaf2224b9d2c",
   "metadata": {},
   "source": [
    "To view the experiment in the browser, run the following command in a terminal:"
   ]
  },
  {
   "cell_type": "markdown",
   "id": "e804e9cd-beb8-4e40-b11a-22063536eaaa",
   "metadata": {},
   "source": [
    "``` mlflow server --host 127.0.0.1 --port 8080 ```"
   ]
  },
  {
   "cell_type": "markdown",
   "id": "83656aad-8e31-420e-a11b-0741250b3243",
   "metadata": {},
   "source": [
    "And then navigate to the following URL:"
   ]
  },
  {
   "cell_type": "markdown",
   "id": "d1d39577-29f6-4f9b-a844-cd75df9d9cc8",
   "metadata": {},
   "source": [
    "http://127.0.0.1:8080"
   ]
  },
  {
   "cell_type": "markdown",
   "id": "675b06fd-9c92-429c-b942-2f59dc30298c",
   "metadata": {},
   "source": [
    "Import the ML Flow libraries"
   ]
  },
  {
   "cell_type": "code",
   "execution_count": 2,
   "id": "7eed859a-5412-43d6-aaa2-adba0b841d7f",
   "metadata": {},
   "outputs": [],
   "source": [
    "import mlflow\n",
    "from mlflow import log_metric, log_param, log_artifacts"
   ]
  },
  {
   "cell_type": "markdown",
   "id": "99d32234-c58f-48af-ae83-dc7dbe41670c",
   "metadata": {},
   "source": [
    "Set up the experiment"
   ]
  },
  {
   "cell_type": "code",
   "execution_count": 5,
   "id": "c58ab897-ab97-4460-82be-5a9227f2c5b7",
   "metadata": {},
   "outputs": [
    {
     "data": {
      "text/plain": [
       "<Experiment: artifact_location='file:///Users/juliamelchert/Downloads/CS-334/gym-clf/mlruns/364478710759810794', creation_time=1733373617373, experiment_id='364478710759810794', last_update_time=1733373617373, lifecycle_stage='active', name='gym-jump-cnn', tags={}>"
      ]
     },
     "execution_count": 5,
     "metadata": {},
     "output_type": "execute_result"
    }
   ],
   "source": [
    "mlflow.set_experiment('gym-jump-cnn')"
   ]
  },
  {
   "cell_type": "markdown",
   "id": "0a9134f7-7c95-4672-b990-865ecc0bf699",
   "metadata": {},
   "source": [
    "Turn on autologging"
   ]
  },
  {
   "cell_type": "code",
   "execution_count": 7,
   "id": "4e914cd2-d501-4127-bb66-2f6c02c4d205",
   "metadata": {},
   "outputs": [],
   "source": [
    "mlflow.autolog()"
   ]
  },
  {
   "cell_type": "markdown",
   "id": "1f09b3c7-c810-4929-9865-b7fd86838ef1",
   "metadata": {},
   "source": [
    "-------------"
   ]
  },
  {
   "cell_type": "markdown",
   "id": "92d7c6af-438d-42c3-94d3-5f9aedc16450",
   "metadata": {},
   "source": [
    "## Import the model (created in model-dev)"
   ]
  },
  {
   "cell_type": "code",
   "execution_count": null,
   "id": "4e0ccb2c-9b51-4c39-9558-df7006d43f14",
   "metadata": {},
   "outputs": [],
   "source": [
    "from tensorflow.keras.models import load_model\n",
    "\n",
    "model = load_model('gymnast_jump_model')"
   ]
  },
  {
   "cell_type": "markdown",
   "id": "6b209815-87db-43e9-b937-3323280f09f7",
   "metadata": {},
   "source": [
    "## Make predictions"
   ]
  },
  {
   "cell_type": "code",
   "execution_count": null,
   "id": "6a9baf19-647e-49bb-9f06-27a1045b72d6",
   "metadata": {},
   "outputs": [],
   "source": [
    "# Preprocess a single image for prediction\n",
    "img_path = 'path/to/image.jpg'  # Path to the image to classify\n",
    "img = load_img(img_path, target_size=(224, 224))  # Resize to match model input size\n",
    "img_array = img_to_array(img) / 255.0  # Scale pixel values to [0, 1]\n",
    "img_array = np.expand_dims(img_array, axis=0)  # Add batch dimension\n",
    "\n",
    "# Make a prediction\n",
    "predictions = model.predict(img_array)\n",
    "class_index = np.argmax(predictions)  # Get the index of the predicted class\n",
    "print(f\"Predicted class index: {class_index}\")"
   ]
  },
  {
   "cell_type": "markdown",
   "id": "36dab628-524c-4b4a-8ad5-b66e0dd20610",
   "metadata": {},
   "source": [
    "### Evaluate the model"
   ]
  },
  {
   "cell_type": "code",
   "execution_count": null,
   "id": "2d602226-3c42-4e65-89cb-a2df0cdaf4c6",
   "metadata": {},
   "outputs": [],
   "source": [
    "test_generator = val_datagen.flow_from_directory(\n",
    "    test_dir,\n",
    "    target_size=(IMG_SIZE, IMG_SIZE),\n",
    "    batch_size=BATCH_SIZE,\n",
    "    class_mode='categorical',\n",
    "    shuffle=False\n",
    ")\n",
    "\n",
    "# Evaluate on test data\n",
    "test_loss, test_accuracy = model.evaluate(test_generator)\n",
    "print(f\"Test Accuracy: {test_accuracy * 100:.2f}%\")\n",
    "\n",
    "# Classification Report\n",
    "y_true = test_generator.classes\n",
    "y_pred = np.argmax(model.predict(test_generator), axis=-1)\n",
    "print(classification_report(y_true, y_pred, target_names=list(test_generator.class_indices.keys())))\n",
    "\n",
    "# Confusion Matrix\n",
    "cm = confusion_matrix(y_true, y_pred)\n",
    "plt.figure(figsize=(10, 7))\n",
    "plt.imshow(cm, cmap='Blues')\n",
    "plt.colorbar()\n",
    "plt.title(\"Confusion Matrix\")\n",
    "plt.show()"
   ]
  }
 ],
 "metadata": {
  "kernelspec": {
   "display_name": "Python 3 (ipykernel)",
   "language": "python",
   "name": "python3"
  },
  "language_info": {
   "codemirror_mode": {
    "name": "ipython",
    "version": 3
   },
   "file_extension": ".py",
   "mimetype": "text/x-python",
   "name": "python",
   "nbconvert_exporter": "python",
   "pygments_lexer": "ipython3",
   "version": "3.12.3"
  }
 },
 "nbformat": 4,
 "nbformat_minor": 5
}
