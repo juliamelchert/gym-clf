{
 "cells": [
  {
   "cell_type": "markdown",
   "id": "1a6ab338-8ca4-4d4f-8c43-60890301f513",
   "metadata": {},
   "source": [
    "# Model Development"
   ]
  },
  {
   "cell_type": "markdown",
   "id": "a89af111-5782-4c60-b57c-4fd852d653d0",
   "metadata": {},
   "source": [
    "-----------"
   ]
  },
  {
   "cell_type": "markdown",
   "id": "31d14958-8e5d-4d7f-a1c1-0a860aee452c",
   "metadata": {},
   "source": [
    "## Install necessary libraries"
   ]
  },
  {
   "cell_type": "markdown",
   "id": "37d52cb6-a349-4f1d-bff5-90343f971611",
   "metadata": {},
   "source": [
    "``` pip install tensorflow keras matplotlib scikit-learn ```"
   ]
  },
  {
   "cell_type": "markdown",
   "id": "dcb8403b-7859-463d-b657-c716d9395d40",
   "metadata": {},
   "source": [
    "------"
   ]
  },
  {
   "cell_type": "markdown",
   "id": "f313e329-cf1b-441f-ac10-d6e7cfe7a379",
   "metadata": {},
   "source": [
    "## Organize image data"
   ]
  },
  {
   "cell_type": "code",
   "execution_count": null,
   "id": "6a7418cf-1c41-466d-95d7-8a736db0c120",
   "metadata": {},
   "outputs": [],
   "source": [
    "import os\n",
    "import shutil\n",
    "import random\n",
    "\n",
    "# Define paths\n",
    "original_dataset_dir = \"./imgs/original\"\n",
    "base_dir = \"./imgs\"\n",
    "\n",
    "# Split data\n",
    "split_ratios = {'train': 0.7, 'validation': 0.15, 'test': 0.15}\n",
    "for jump_type in os.listdir(original_dataset_dir):\n",
    "    images = os.listdir(os.path.join(original_dataset_dir, jump_type))\n",
    "    random.shuffle(images)\n",
    "    \n",
    "    train_end = int(len(images) * split_ratios['train'])\n",
    "    val_end = train_end + int(len(images) * split_ratios['validation'])\n",
    "    \n",
    "    for i, image in enumerate(images):\n",
    "        if i < train_end:\n",
    "            split = 'train'\n",
    "        elif i < val_end:\n",
    "            split = 'validation'\n",
    "        else:\n",
    "            split = 'test'\n",
    "        src = os.path.join(original_dataset_dir, jump_type, image)\n",
    "        dest = os.path.join(base_dir, split, jump_type, image)\n",
    "        shutil.copy(src, dest)"
   ]
  },
  {
   "cell_type": "markdown",
   "id": "8bc55e17-34ac-40f3-a594-0169f58824ee",
   "metadata": {},
   "source": [
    "-----"
   ]
  },
  {
   "cell_type": "markdown",
   "id": "0f468c0f-e2f2-460c-8bcf-5af34a40344d",
   "metadata": {},
   "source": [
    "## Model Work"
   ]
  },
  {
   "cell_type": "code",
   "execution_count": null,
   "id": "ef50bd3a-ef74-4e4e-a801-9ac0fdab3606",
   "metadata": {},
   "outputs": [],
   "source": [
    "# Import libraries\n",
    "import tensorflow as tf\n",
    "from tensorflow.keras.preprocessing.image import ImageDataGenerator\n",
    "from tensorflow.keras.applications import ResNet50\n",
    "from tensorflow.keras.layers import Dense, Flatten, GlobalAveragePooling2D\n",
    "from tensorflow.keras.models import Model\n",
    "from tensorflow.keras.optimizers import Adam\n",
    "from sklearn.metrics import classification_report, confusion_matrix\n",
    "import matplotlib.pyplot as plt\n",
    "import numpy as np\n",
    "\n",
    "# Set up paths\n",
    "train_dir = \"./imgs/train\"\n",
    "val_dir = \"./imgs/validation\"\n",
    "test_dir = \"./imgs/test\""
   ]
  },
  {
   "cell_type": "markdown",
   "id": "0a4e5054-6799-4603-aeb6-bb9d4a20e6bf",
   "metadata": {},
   "source": [
    "### Data preparation"
   ]
  },
  {
   "cell_type": "code",
   "execution_count": null,
   "id": "ca4d2d81-89fc-498e-bbbb-072e8b0ed858",
   "metadata": {},
   "outputs": [],
   "source": [
    "IMG_SIZE = 224  # Standard size for ResNet50 input\n",
    "BATCH_SIZE = 32\n",
    "\n",
    "# Data Augmentation for Training\n",
    "train_datagen = ImageDataGenerator(\n",
    "    rescale=1.0/255,  # Normalize pixel values\n",
    "    rotation_range=20,\n",
    "    width_shift_range=0.2,\n",
    "    height_shift_range=0.2,\n",
    "    shear_range=0.2,\n",
    "    zoom_range=0.2,\n",
    "    horizontal_flip=True,\n",
    "    fill_mode=\"nearest\"\n",
    ")\n",
    "\n",
    "val_datagen = ImageDataGenerator(rescale=1.0/255)\n",
    "\n",
    "train_generator = train_datagen.flow_from_directory(\n",
    "    train_dir,\n",
    "    target_size=(IMG_SIZE, IMG_SIZE),\n",
    "    batch_size=BATCH_SIZE,\n",
    "    class_mode='categorical'\n",
    ")\n",
    "\n",
    "val_generator = val_datagen.flow_from_directory(\n",
    "    val_dir,\n",
    "    target_size=(IMG_SIZE, IMG_SIZE),\n",
    "    batch_size=BATCH_SIZE,\n",
    "    class_mode='categorical'\n",
    ")"
   ]
  },
  {
   "cell_type": "markdown",
   "id": "6dc74096-694d-4beb-ae13-acf48cb7e95a",
   "metadata": {},
   "source": [
    "### Load pre-trained model"
   ]
  },
  {
   "cell_type": "code",
   "execution_count": null,
   "id": "cb896101-c1de-462e-827e-a81638503af2",
   "metadata": {},
   "outputs": [],
   "source": [
    "base_model = ResNet50(weights=\"imagenet\", include_top=False, input_shape=(IMG_SIZE, IMG_SIZE, 3))\n",
    "\n",
    "# Freeze the base model layers (optional)\n",
    "for layer in base_model.layers:\n",
    "    layer.trainable = False\n",
    "\n",
    "# Add custom layers for classification\n",
    "x = base_model.output\n",
    "x = GlobalAveragePooling2D()(x)\n",
    "x = Dense(128, activation='relu')(x)  # Add a dense layer\n",
    "predictions = Dense(train_generator.num_classes, activation='softmax')(x)  # Final output layer\n",
    "\n",
    "model = Model(inputs=base_model.input, outputs=predictions)"
   ]
  },
  {
   "cell_type": "markdown",
   "id": "b449be06-47e8-4e51-86c4-f8e5936d7b4b",
   "metadata": {},
   "source": [
    "### Compile the model"
   ]
  },
  {
   "cell_type": "code",
   "execution_count": null,
   "id": "4a6cc045-6ff2-40fd-bb2b-a2464d80fc5d",
   "metadata": {},
   "outputs": [],
   "source": [
    "model.compile(optimizer=Adam(learning_rate=0.001), loss='categorical_crossentropy', metrics=['accuracy'])"
   ]
  },
  {
   "cell_type": "markdown",
   "id": "9b5e3d86-8fad-4c84-9988-eddc960bdbb6",
   "metadata": {},
   "source": [
    "### Train the model"
   ]
  },
  {
   "cell_type": "code",
   "execution_count": null,
   "id": "4cee766d-6358-4ad2-b52c-f2b36e4b1ee3",
   "metadata": {},
   "outputs": [],
   "source": [
    "EPOCHS = 10\n",
    "history = model.fit(\n",
    "    train_generator,\n",
    "    validation_data=val_generator,\n",
    "    epochs=EPOCHS\n",
    ")"
   ]
  },
  {
   "cell_type": "markdown",
   "id": "ec5d0ca7-4894-4d76-b19b-fe4a17c28e57",
   "metadata": {},
   "source": [
    "---------"
   ]
  },
  {
   "cell_type": "markdown",
   "id": "072ca934-c50b-48d1-a41a-ccb5690eb3ed",
   "metadata": {},
   "source": [
    "## Check performance"
   ]
  },
  {
   "cell_type": "code",
   "execution_count": null,
   "id": "c0a8a6fa-6df3-4a70-84f1-f914a4f630be",
   "metadata": {},
   "outputs": [],
   "source": [
    "# Plot Training and Validation Accuracy\n",
    "plt.figure(figsize=(12, 5))\n",
    "plt.plot(history.history['accuracy'], label='Training Accuracy', marker='o')\n",
    "plt.plot(history.history['val_accuracy'], label='Validation Accuracy', marker='o')\n",
    "plt.title('Training and Validation Accuracy')\n",
    "plt.xlabel('Epochs')\n",
    "plt.ylabel('Accuracy')\n",
    "plt.legend()\n",
    "plt.grid(True)\n",
    "plt.show()\n",
    "\n",
    "# Plot Training and Validation Loss\n",
    "plt.figure(figsize=(12, 5))\n",
    "plt.plot(history.history['loss'], label='Training Loss', marker='o')\n",
    "plt.plot(history.history['val_loss'], label='Validation Loss', marker='o')\n",
    "plt.title('Training and Validation Loss')\n",
    "plt.xlabel('Epochs')\n",
    "plt.ylabel('Loss')\n",
    "plt.legend()\n",
    "plt.grid(True)\n",
    "plt.show()"
   ]
  },
  {
   "cell_type": "markdown",
   "id": "c625937e-246e-4a5b-926d-919a328b6cb2",
   "metadata": {},
   "source": [
    "--------"
   ]
  },
  {
   "cell_type": "markdown",
   "id": "6bf15861-af32-4339-9a10-ef8a4ba26813",
   "metadata": {},
   "source": [
    "## Persist the model"
   ]
  },
  {
   "cell_type": "code",
   "execution_count": null,
   "id": "098743cd-df8c-49ff-a5e9-1f56f2d22b28",
   "metadata": {},
   "outputs": [],
   "source": [
    "# Save the model using the TensorFlow SavedModel format\n",
    "model.save('gym-clf-model')"
   ]
  }
 ],
 "metadata": {
  "kernelspec": {
   "display_name": "Python 3 (ipykernel)",
   "language": "python",
   "name": "python3"
  },
  "language_info": {
   "codemirror_mode": {
    "name": "ipython",
    "version": 3
   },
   "file_extension": ".py",
   "mimetype": "text/x-python",
   "name": "python",
   "nbconvert_exporter": "python",
   "pygments_lexer": "ipython3",
   "version": "3.12.3"
  }
 },
 "nbformat": 4,
 "nbformat_minor": 5
}
